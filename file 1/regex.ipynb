{
 "cells": [
  {
   "cell_type": "code",
   "execution_count": 18,
   "id": "ff040c73",
   "metadata": {},
   "outputs": [],
   "source": [
    "import regex as re"
   ]
  },
  {
   "cell_type": "code",
   "execution_count": 2,
   "id": "cea4873e",
   "metadata": {},
   "outputs": [
    {
     "name": "stdout",
     "output_type": "stream",
     "text": [
      "20\n"
     ]
    }
   ],
   "source": [
    "string1=\"Hello Data Science 1\"\n",
    "print(len(string1))"
   ]
  },
  {
   "cell_type": "code",
   "execution_count": 5,
   "id": "fa8ea6ca",
   "metadata": {},
   "outputs": [
    {
     "name": "stdout",
     "output_type": "stream",
     "text": [
      "['Data']\n"
     ]
    }
   ],
   "source": [
    "pattern=\"Data\"\n",
    "x=re.findall(pattern,string1)\n",
    "print(x)"
   ]
  },
  {
   "cell_type": "code",
   "execution_count": 7,
   "id": "a0ad2771",
   "metadata": {},
   "outputs": [
    {
     "name": "stdout",
     "output_type": "stream",
     "text": [
      "['H', 'o', 'a', 'a']\n"
     ]
    }
   ],
   "source": [
    "x=re.findall(\"[oHa]\",string1)\n",
    "print(x)"
   ]
  },
  {
   "cell_type": "code",
   "execution_count": 8,
   "id": "61ad86c3",
   "metadata": {},
   "outputs": [
    {
     "name": "stdout",
     "output_type": "stream",
     "text": [
      "['e', 'l', 'l', ' ', 'D', 't', ' ', 'S', 'c', 'i', 'e', 'n', 'c', 'e', ' ', '1']\n"
     ]
    }
   ],
   "source": [
    "x=re.findall(\"[^oHa]\",string1)\n",
    "print(x)"
   ]
  },
  {
   "cell_type": "code",
   "execution_count": 10,
   "id": "44e1f306",
   "metadata": {},
   "outputs": [
    {
     "name": "stdout",
     "output_type": "stream",
     "text": [
      "['e', 'l', 'l', 'a', 'a', 'c', 'i', 'e', 'c', 'e', 'd', 'g', 'f', 'k', 'g', 'd', 'a', 'h', 'i', 'i', 'k', 'j', 'c', 'd', 'b', 'd', 'a', 'a', 'c', 'i', 'e', 'c', 'e', 'h']\n",
      "34\n"
     ]
    }
   ],
   "source": [
    "string=\"Hello Data Science sdgfskgduashuis qpqoisokxxjcd\" \"vssb data science python\"\n",
    "x=re.findall(\"[a-m]\",string)\n",
    "print(x)\n",
    "print(len(x))"
   ]
  },
  {
   "cell_type": "code",
   "execution_count": 11,
   "id": "5882b90a",
   "metadata": {},
   "outputs": [],
   "source": [
    "\"Brain memeory mind head\"\n",
    "pattern=\"ain\\b\"\n"
   ]
  },
  {
   "cell_type": "code",
   "execution_count": 12,
   "id": "45a3725e",
   "metadata": {},
   "outputs": [
    {
     "name": "stdout",
     "output_type": "stream",
     "text": [
      "ain\b\n"
     ]
    }
   ],
   "source": [
    "print(pattern)"
   ]
  },
  {
   "cell_type": "code",
   "execution_count": 13,
   "id": "d65f8892",
   "metadata": {},
   "outputs": [
    {
     "name": "stdout",
     "output_type": "stream",
     "text": [
      "\bmi\n"
     ]
    }
   ],
   "source": [
    "pattern=\"\\bmi\"\n",
    "print(pattern)"
   ]
  },
  {
   "cell_type": "code",
   "execution_count": 17,
   "id": "c33c3b33",
   "metadata": {},
   "outputs": [
    {
     "name": "stdout",
     "output_type": "stream",
     "text": [
      "['Data Science', 'data science']\n"
     ]
    }
   ],
   "source": [
    "pattern=\"data science|Data Science\"\n",
    "text=\"Data Science is a stream and it is a part of AI.You can solve many complex problems using data science tools and techs\"\n",
    "\n",
    "matches=re.findall(pattern,text)\n",
    "print(matches)"
   ]
  },
  {
   "cell_type": "code",
   "execution_count": 20,
   "id": "230993d5",
   "metadata": {},
   "outputs": [
    {
     "name": "stdout",
     "output_type": "stream",
     "text": [
      "['12', '3', '456']\n"
     ]
    }
   ],
   "source": [
    "pattern=\"\\d+\"\n",
    "text=\"There are 12 3 apples and 456 oranges.\"\n",
    "matches=re.findall(pattern,text)\n",
    "print(matches)"
   ]
  },
  {
   "cell_type": "code",
   "execution_count": 23,
   "id": "c9b6a7e9",
   "metadata": {},
   "outputs": [
    {
     "name": "stdout",
     "output_type": "stream",
     "text": [
      "['There are ', ' apples and ', ' oranges.']\n"
     ]
    }
   ],
   "source": [
    "pattern=\"\\D+\"\n",
    "text=\"There are 11 apples and 456 oranges.\"\n",
    "matches=re.findall(pattern,text)\n",
    "print(matches)"
   ]
  },
  {
   "cell_type": "raw",
   "id": "80587a32",
   "metadata": {},
   "source": [
    "here (+)  is used for continuous repetition."
   ]
  },
  {
   "cell_type": "code",
   "execution_count": 24,
   "id": "adc4b182",
   "metadata": {},
   "outputs": [
    {
     "name": "stdout",
     "output_type": "stream",
     "text": [
      "['12', '3', '456']\n"
     ]
    }
   ],
   "source": [
    "pattern=\"[0-9]+\"\n",
    "text=\"There are 12 3 apples and 456 oranges.\"\n",
    "matches=re.findall(pattern,text)\n",
    "print(matches)"
   ]
  },
  {
   "cell_type": "code",
   "execution_count": 26,
   "id": "712f6e59",
   "metadata": {},
   "outputs": [
    {
     "name": "stdout",
     "output_type": "stream",
     "text": [
      "['4', '7398', '2393', '4', '23728']\n"
     ]
    }
   ],
   "source": [
    "pattern=\"[0-9]+\"\n",
    "matches=re.findall(pattern,'uydsuajsdhlqu4 7398 2393 fjidowiow4 23728')\n",
    "print(matches)"
   ]
  },
  {
   "cell_type": "code",
   "execution_count": 39,
   "id": "db85bd2f",
   "metadata": {},
   "outputs": [
    {
     "name": "stdout",
     "output_type": "stream",
     "text": [
      "['150']\n"
     ]
    }
   ],
   "source": [
    "#Extracting digits from list of string.\n",
    "price = ['Apple costs Rs 50','Rs 60 for each pineapple 120','Rs 150 per watermelon']\n",
    "for msg in price:\n",
    "    matches=re.findall(\"\\d+\",msg)\n",
    "print(matches)"
   ]
  },
  {
   "cell_type": "code",
   "execution_count": 3,
   "id": "8a62c37b",
   "metadata": {},
   "outputs": [
    {
     "name": "stdout",
     "output_type": "stream",
     "text": [
      "['Abdul', 'kalam', 'indian', 'areosp', 'scient', 'also', 'known', 'missil', 'India']\n"
     ]
    }
   ],
   "source": [
    "target_string=\"Abdul kalam was an indian areospace scientist also known as the missile man of India #@\"\n",
    "result=re.findall(r\"\\w{4,6}\",target_string)\n",
    "print(result)"
   ]
  },
  {
   "cell_type": "code",
   "execution_count": 4,
   "id": "ad6e18dc",
   "metadata": {},
   "outputs": [
    {
     "name": "stdout",
     "output_type": "stream",
     "text": [
      "['AP12iKJ', 'Abdu1']\n"
     ]
    }
   ],
   "source": [
    "#Extracting string ehich begins with A and ends with J or string brgins with A and ends with l from the given string.\n",
    "import re\n",
    "string=\"AP12iKJ Abdu12_l Kalam was am indian areospace scientist also known as the missile man of India\"\n",
    "pattern='A[a-zA-Z0-9]+J|A[\\w]+1'\n",
    "\n",
    "result=re.findall(pattern,string)\n",
    "print(result)"
   ]
  },
  {
   "cell_type": "markdown",
   "id": "74c786aa",
   "metadata": {},
   "source": [
    "# split"
   ]
  },
  {
   "cell_type": "code",
   "execution_count": 6,
   "id": "58e74834",
   "metadata": {},
   "outputs": [
    {
     "name": "stdout",
     "output_type": "stream",
     "text": [
      "['Twelve:', ' Eighty nine:89.']\n"
     ]
    }
   ],
   "source": [
    "string='Twelve:12 Eighty nine:89.'\n",
    "pattern=\"\\d+\"\n",
    "result=re.split(pattern,string,1)\n",
    "print(result)"
   ]
  },
  {
   "cell_type": "code",
   "execution_count": 7,
   "id": "42c6bf16",
   "metadata": {},
   "outputs": [
    {
     "name": "stdout",
     "output_type": "stream",
     "text": [
      "['India', 'is', 'a', 'beautiful', 'country']\n"
     ]
    }
   ],
   "source": [
    "# split at each white space character (\\s is split by space)\n",
    "text=\"India is a beautiful country\"\n",
    "x=re.split('\\s',text)\n",
    "print(x)"
   ]
  },
  {
   "cell_type": "code",
   "execution_count": 8,
   "id": "f0a83b48",
   "metadata": {},
   "outputs": [
    {
     "name": "stdout",
     "output_type": "stream",
     "text": [
      "['How', 'is', 'this possible']\n"
     ]
    }
   ],
   "source": [
    "#Start splitting by position\n",
    "split_by_position=\"How is this possible\"\n",
    "x=re.split(\"\\s\",split_by_position,2)\n",
    "print(x)"
   ]
  },
  {
   "cell_type": "markdown",
   "id": "9c8eac93",
   "metadata": {},
   "source": [
    "# sub"
   ]
  },
  {
   "cell_type": "code",
   "execution_count": 9,
   "id": "773b990b",
   "metadata": {},
   "outputs": [
    {
     "name": "stdout",
     "output_type": "stream",
     "text": [
      "This++function++replaces++space++by++assigned++char\n"
     ]
    }
   ],
   "source": [
    "sub_=\"This function replaces space by assigned char\"\n",
    "x=re.sub(\"\\s\",\"++\",sub_)\n",
    "print(x)"
   ]
  },
  {
   "cell_type": "code",
   "execution_count": 11,
   "id": "d0b41741",
   "metadata": {},
   "outputs": [
    {
     "name": "stdout",
     "output_type": "stream",
     "text": [
      "This item cost $ 2500 and $ 3000\n"
     ]
    }
   ],
   "source": [
    "y='Rs'\n",
    "text=\"This item cost Rs 2500 and rs 3000\"\n",
    "replaced_text=re.sub(y,\"$\",text,flags=re.IGNORECASE)\n",
    "print(replaced_text)"
   ]
  },
  {
   "cell_type": "code",
   "execution_count": 12,
   "id": "1b2a4c55",
   "metadata": {},
   "outputs": [
    {
     "name": "stdout",
     "output_type": "stream",
     "text": [
      "AbdulkalamwasanindianareospacescientistalsoknownasthemissilemanofIndia\n"
     ]
    }
   ],
   "source": [
    "target_string=\"Abdul kalam was an    indian areospace scientist also known as the missile man of India \"\n",
    "res_srt=re.sub(r\"\\s+\",\"\",target_string)\n",
    "print(res_srt)"
   ]
  },
  {
   "cell_type": "code",
   "execution_count": 14,
   "id": "21241854",
   "metadata": {},
   "outputs": [
    {
     "name": "stdout",
     "output_type": "stream",
     "text": [
      "    Abdul kalam was an      indian areospace scientist also known as the missile man of India\n"
     ]
    }
   ],
   "source": [
    "target_string=\"    Abdul kalam was an indian areospace scientist also known as the missile man of India \"\n",
    "res_str=re.sub(r\"\\s+$\",\"\",target_string)#removing trailing spaces\n",
    "print(res_str)"
   ]
  },
  {
   "cell_type": "code",
   "execution_count": 15,
   "id": "c9565e73",
   "metadata": {},
   "outputs": [
    {
     "name": "stdout",
     "output_type": "stream",
     "text": [
      "<re.Match object; span=(0, 4), match='2023'>\n"
     ]
    }
   ],
   "source": [
    "target_string=\"2023 virat is a cricket player who was born on November 5,\"\n",
    "#match at the end \n",
    "result=re.match(r\"\\d{4}\",target_string)\n",
    "print(result)"
   ]
  },
  {
   "cell_type": "code",
   "execution_count": 16,
   "id": "8c436d09",
   "metadata": {},
   "outputs": [
    {
     "name": "stdout",
     "output_type": "stream",
     "text": [
      "None\n",
      "None\n",
      "<re.Match object; span=(11, 17), match='banana'>\n",
      "<re.Match object; span=(0, 6), match='banana'>\n",
      "None\n"
     ]
    }
   ],
   "source": [
    "msges=['Bananas are not only very delicious pieces of fruit',\n",
    "      'they are also super healthy.',\n",
    "      'Eating two bananas a day can do wonders for your health,banana',\n",
    "      'banana for exMPLE. But did you ever think of sticking a needle into a banana? Probablynot,',\n",
    "      'but you should ,because it is super handy!']\n",
    "for msg in msges:\n",
    "    search=re.search(\"banana\",msg)\n",
    "    print (search)"
   ]
  },
  {
   "cell_type": "code",
   "execution_count": 21,
   "id": "5f8b44f0",
   "metadata": {},
   "outputs": [
    {
     "name": "stdout",
     "output_type": "stream",
     "text": [
      "43 CENTURIES\n",
      "91 HALFCENTURIES\n"
     ]
    }
   ],
   "source": [
    "target_string=\"Rohit Sharma has scored 43 CENTURIES and 91 HALFCENTURIES in his cricket career.\"\n",
    "pattern = re.compile(r\"(\\b\\d+\\b).(\\b[A-Z]+\\b)\")\n",
    "\n",
    "#find all amtches to group\n",
    "for match1 in pattern.finditer(target_string):\n",
    "    print(match1.group())"
   ]
  },
  {
   "cell_type": "code",
   "execution_count": null,
   "id": "cfa9c9ac",
   "metadata": {},
   "outputs": [],
   "source": []
  }
 ],
 "metadata": {
  "kernelspec": {
   "display_name": "Python 3 (ipykernel)",
   "language": "python",
   "name": "python3"
  },
  "language_info": {
   "codemirror_mode": {
    "name": "ipython",
    "version": 3
   },
   "file_extension": ".py",
   "mimetype": "text/x-python",
   "name": "python",
   "nbconvert_exporter": "python",
   "pygments_lexer": "ipython3",
   "version": "3.11.5"
  }
 },
 "nbformat": 4,
 "nbformat_minor": 5
}
