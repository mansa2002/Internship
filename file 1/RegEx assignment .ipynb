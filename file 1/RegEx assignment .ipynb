{
 "cells": [
  {
   "cell_type": "code",
   "execution_count": 1,
   "id": "df441248",
   "metadata": {},
   "outputs": [],
   "source": [
    "import re"
   ]
  },
  {
   "cell_type": "markdown",
   "id": "d5e51102",
   "metadata": {},
   "source": [
    "#### Question1:-"
   ]
  },
  {
   "cell_type": "code",
   "execution_count": 3,
   "id": "547cc129",
   "metadata": {},
   "outputs": [
    {
     "name": "stdout",
     "output_type": "stream",
     "text": [
      "Python:Excercises::PHP:excercises:\n"
     ]
    }
   ],
   "source": [
    "sample_text='Python Excercises, PHP excercises.'\n",
    "expected_output=re.sub(\"[ ,.]\",\":\",sample_text)\n",
    "print(expected_output)"
   ]
  },
  {
   "cell_type": "markdown",
   "id": "dc73987f",
   "metadata": {},
   "source": [
    "#### Question2:- "
   ]
  },
  {
   "cell_type": "code",
   "execution_count": 53,
   "id": "2d150f7a",
   "metadata": {},
   "outputs": [],
   "source": [
    "import pandas as pd"
   ]
  },
  {
   "cell_type": "code",
   "execution_count": 54,
   "id": "e15b5f5c",
   "metadata": {},
   "outputs": [
    {
     "data": {
      "text/html": [
       "<div>\n",
       "<style scoped>\n",
       "    .dataframe tbody tr th:only-of-type {\n",
       "        vertical-align: middle;\n",
       "    }\n",
       "\n",
       "    .dataframe tbody tr th {\n",
       "        vertical-align: top;\n",
       "    }\n",
       "\n",
       "    .dataframe thead th {\n",
       "        text-align: right;\n",
       "    }\n",
       "</style>\n",
       "<table border=\"1\" class=\"dataframe\">\n",
       "  <thead>\n",
       "    <tr style=\"text-align: right;\">\n",
       "      <th></th>\n",
       "      <th>SUMMARY</th>\n",
       "    </tr>\n",
       "  </thead>\n",
       "  <tbody>\n",
       "    <tr>\n",
       "      <th>0</th>\n",
       "      <td>hello,world!</td>\n",
       "    </tr>\n",
       "    <tr>\n",
       "      <th>1</th>\n",
       "      <td>XXXXX test</td>\n",
       "    </tr>\n",
       "    <tr>\n",
       "      <th>2</th>\n",
       "      <td>123four,five:;six...</td>\n",
       "    </tr>\n",
       "  </tbody>\n",
       "</table>\n",
       "</div>"
      ],
      "text/plain": [
       "                SUMMARY\n",
       "0          hello,world!\n",
       "1            XXXXX test\n",
       "2  123four,five:;six..."
      ]
     },
     "execution_count": 54,
     "metadata": {},
     "output_type": "execute_result"
    }
   ],
   "source": [
    "df=pd.DataFrame({'SUMMARY':['hello,world!','XXXXX test','123four,five:;six...']})\n",
    "df"
   ]
  },
  {
   "cell_type": "code",
   "execution_count": 55,
   "id": "17483868",
   "metadata": {
    "scrolled": true
   },
   "outputs": [
    {
     "name": "stdout",
     "output_type": "stream",
     "text": [
      "       SUMMARY\n",
      "0   helloworld\n",
      "1         test\n",
      "2  fourfivesix\n"
     ]
    }
   ],
   "source": [
    "df['SUMMARY'] = df['SUMMARY'].str.replace('[^a-zA-Z ]', '', regex=True)\n",
    "df['SUMMARY']=df['SUMMARY'].replace('X','',regex=True)\n",
    "print(df)"
   ]
  },
  {
   "cell_type": "markdown",
   "id": "5969ef3b",
   "metadata": {},
   "source": [
    "#### Question3:- "
   ]
  },
  {
   "cell_type": "code",
   "execution_count": 34,
   "id": "fc75da69",
   "metadata": {},
   "outputs": [
    {
     "name": "stdout",
     "output_type": "stream",
     "text": [
      "['Data', 'science', 'study', 'data', 'extract', 'meaningful', 'insights', 'business', 'multidisciplinary', 'approach', 'that', 'combines', 'principles', 'practices', 'from', 'fields', 'mathematics', 'statistics', 'artificial', 'intelligence', 'computer', 'engineering', 'analyze', 'large', 'amounts', 'data']\n"
     ]
    }
   ],
   "source": [
    "target_string=\"Data science is the study of data to extract meaningful insights for business. It is a multidisciplinary approach that combines principles and practices from the fields of mathematics, statistics, artificial intelligence, and computer engineering to analyze large amounts of data\"\n",
    "string_pattern=r\"\\b\\w{4,}\\b\"\n",
    "regex_pattern=re.compile(string_pattern)\n",
    "result=regex_pattern.findall(target_string)\n",
    "print(result)"
   ]
  },
  {
   "cell_type": "markdown",
   "id": "0e146f0b",
   "metadata": {},
   "source": [
    "#### Question4:-"
   ]
  },
  {
   "cell_type": "code",
   "execution_count": 35,
   "id": "6df6ca8a",
   "metadata": {},
   "outputs": [
    {
     "name": "stdout",
     "output_type": "stream",
     "text": [
      "['Data', 'the', 'study', 'data', 'for', 'that', 'and', 'from', 'the', 'fields', 'and', 'large', 'data']\n"
     ]
    }
   ],
   "source": [
    "target_string=\"Data science is the study of data to extract meaningful insights for business. It is a multidisciplinary approach that combines principles and practices from the fields of mathematics, statistics, artificial intelligence, and computer engineering to analyze large amounts of data\"\n",
    "string_pattern=r\"\\b\\w{3,6}\\b\"\n",
    "regex_pattern=re.compile(string_pattern)\n",
    "result=regex_pattern.findall(target_string)\n",
    "print(result)"
   ]
  },
  {
   "cell_type": "markdown",
   "id": "f41e1545",
   "metadata": {},
   "source": [
    "#### Question5:-"
   ]
  },
  {
   "cell_type": "code",
   "execution_count": 56,
   "id": "fc4f211c",
   "metadata": {},
   "outputs": [],
   "source": [
    "sample_text = [\"example (.com)\", \"hr@fliprobo (.com)\", \"github (.com)\", \"Hello (Data Science World)\", \"Data (Scientist)\"]\n",
    "def remove_parentheses(strings):\n",
    "    pattern = re.compile(r'\\(([^)]*)\\)')\n",
    "    result = [pattern.sub(r'\\1', s) for s in strings]\n",
    "    return result"
   ]
  },
  {
   "cell_type": "code",
   "execution_count": 57,
   "id": "b16c299b",
   "metadata": {},
   "outputs": [
    {
     "name": "stdout",
     "output_type": "stream",
     "text": [
      "example .com\n",
      "hr@fliprobo .com\n",
      "github .com\n",
      "Hello Data Science World\n",
      "Data Scientist\n"
     ]
    }
   ],
   "source": [
    "expected_output = remove_parentheses(sample_text)\n",
    "print(\"\\n\".join(expected_output))"
   ]
  },
  {
   "cell_type": "markdown",
   "id": "1ae45a21",
   "metadata": {},
   "source": [
    "#### Question 6:- "
   ]
  },
  {
   "cell_type": "code",
   "execution_count": 58,
   "id": "71fa38de",
   "metadata": {},
   "outputs": [
    {
     "name": "stdout",
     "output_type": "stream",
     "text": [
      "['example', 'hr@fliprobo', 'github', 'Hello', 'Data']\n"
     ]
    }
   ],
   "source": [
    "sample_text = [\"example (.com)\", \"hr@fliprobo (.com)\", \"github (.com)\", \"Hello (Data Science World)\", \"Data (Scientist)\"]\n",
    "result_string=' '.join(sample_text)\n",
    "with open(\"string.txt\",\"w\")as file:\n",
    "    file.write(result_string)\n",
    "with open(\"string.txt\",\"r\")as file:\n",
    "    text=file.read()\n",
    "    \n",
    "new_text=re.sub(r\"\\s*\\([^)]*\\)\",\"\",text)\n",
    "my_list=new_text.split()\n",
    "print(my_list)"
   ]
  },
  {
   "cell_type": "markdown",
   "id": "0bd30ad2",
   "metadata": {},
   "source": [
    "#### Question 7:-"
   ]
  },
  {
   "cell_type": "code",
   "execution_count": 5,
   "id": "f88f9147",
   "metadata": {},
   "outputs": [
    {
     "name": "stdout",
     "output_type": "stream",
     "text": [
      "['Importance', 'Of', 'Regular', 'Expressions', 'In', 'Python']\n"
     ]
    }
   ],
   "source": [
    "sample_text=\"ImportanceOfRegularExpressionsInPython\"\n",
    "output=re.findall('[A-Z][^A-Z]*',sample_text)\n",
    "print(output)"
   ]
  },
  {
   "cell_type": "markdown",
   "id": "c160b569",
   "metadata": {},
   "source": [
    "#### Question8:-"
   ]
  },
  {
   "cell_type": "code",
   "execution_count": 15,
   "id": "f1f8d747",
   "metadata": {},
   "outputs": [],
   "source": [
    "sample_text = \"RegularExpression1IsAn2ImportantTopic3InPython\"\n",
    "def insert_spaces(text):\n",
    "    return re.sub(r'(?<=[a-zA-Z])(\\d)', r' \\1', text)\n",
    "\n",
    "\n"
   ]
  },
  {
   "cell_type": "code",
   "execution_count": 16,
   "id": "dee8a418",
   "metadata": {},
   "outputs": [
    {
     "name": "stdout",
     "output_type": "stream",
     "text": [
      "RegularExpression 1IsAn 2ImportantTopic 3InPython\n"
     ]
    }
   ],
   "source": [
    "expected_result = insert_spaces(sample_text)\n",
    "print(result)"
   ]
  },
  {
   "cell_type": "markdown",
   "id": "9d5a12cf",
   "metadata": {},
   "source": [
    "#### Question 9:- "
   ]
  },
  {
   "cell_type": "code",
   "execution_count": 22,
   "id": "60445caa",
   "metadata": {},
   "outputs": [],
   "source": [
    "sample_text = \"RegularExpression1IsAn2ImportantTopic3InPython\"\n",
    "def insert_spaces(text):\n",
    "    result=re.sub(r'([A-Z0-9])',r' \\1',text)\n",
    "    result=result.strip()\n",
    "    return result\n",
    "    #strip mathod is used to remove the trailing spaces."
   ]
  },
  {
   "cell_type": "code",
   "execution_count": 23,
   "id": "65299b17",
   "metadata": {},
   "outputs": [
    {
     "name": "stdout",
     "output_type": "stream",
     "text": [
      "Regular Expression 1 Is An 2 Important Topic 3 In Python\n"
     ]
    }
   ],
   "source": [
    "output=insert_spaces(sample_text)\n",
    "print(output)"
   ]
  },
  {
   "cell_type": "markdown",
   "id": "27582204",
   "metadata": {},
   "source": [
    "#### Question 10:-"
   ]
  },
  {
   "cell_type": "code",
   "execution_count": 24,
   "id": "801f6cdc",
   "metadata": {},
   "outputs": [],
   "source": [
    "import pandas as pd\n"
   ]
  },
  {
   "cell_type": "code",
   "execution_count": 25,
   "id": "4e20eaa9",
   "metadata": {},
   "outputs": [
    {
     "data": {
      "text/html": [
       "<div>\n",
       "<style scoped>\n",
       "    .dataframe tbody tr th:only-of-type {\n",
       "        vertical-align: middle;\n",
       "    }\n",
       "\n",
       "    .dataframe tbody tr th {\n",
       "        vertical-align: top;\n",
       "    }\n",
       "\n",
       "    .dataframe thead th {\n",
       "        text-align: right;\n",
       "    }\n",
       "</style>\n",
       "<table border=\"1\" class=\"dataframe\">\n",
       "  <thead>\n",
       "    <tr style=\"text-align: right;\">\n",
       "      <th></th>\n",
       "      <th>Country</th>\n",
       "      <th>Region</th>\n",
       "      <th>Happiness Rank</th>\n",
       "      <th>Happiness Score</th>\n",
       "      <th>Standard Error</th>\n",
       "      <th>Economy (GDP per Capita)</th>\n",
       "      <th>Family</th>\n",
       "      <th>Health (Life Expectancy)</th>\n",
       "      <th>Freedom</th>\n",
       "      <th>Trust (Government Corruption)</th>\n",
       "      <th>Generosity</th>\n",
       "      <th>Dystopia Residual</th>\n",
       "    </tr>\n",
       "  </thead>\n",
       "  <tbody>\n",
       "    <tr>\n",
       "      <th>0</th>\n",
       "      <td>Switzerland</td>\n",
       "      <td>Western Europe</td>\n",
       "      <td>1</td>\n",
       "      <td>7.587</td>\n",
       "      <td>0.03411</td>\n",
       "      <td>1.39651</td>\n",
       "      <td>1.34951</td>\n",
       "      <td>0.94143</td>\n",
       "      <td>0.66557</td>\n",
       "      <td>0.41978</td>\n",
       "      <td>0.29678</td>\n",
       "      <td>2.51738</td>\n",
       "    </tr>\n",
       "    <tr>\n",
       "      <th>1</th>\n",
       "      <td>Iceland</td>\n",
       "      <td>Western Europe</td>\n",
       "      <td>2</td>\n",
       "      <td>7.561</td>\n",
       "      <td>0.04884</td>\n",
       "      <td>1.30232</td>\n",
       "      <td>1.40223</td>\n",
       "      <td>0.94784</td>\n",
       "      <td>0.62877</td>\n",
       "      <td>0.14145</td>\n",
       "      <td>0.43630</td>\n",
       "      <td>2.70201</td>\n",
       "    </tr>\n",
       "    <tr>\n",
       "      <th>2</th>\n",
       "      <td>Denmark</td>\n",
       "      <td>Western Europe</td>\n",
       "      <td>3</td>\n",
       "      <td>7.527</td>\n",
       "      <td>0.03328</td>\n",
       "      <td>1.32548</td>\n",
       "      <td>1.36058</td>\n",
       "      <td>0.87464</td>\n",
       "      <td>0.64938</td>\n",
       "      <td>0.48357</td>\n",
       "      <td>0.34139</td>\n",
       "      <td>2.49204</td>\n",
       "    </tr>\n",
       "    <tr>\n",
       "      <th>3</th>\n",
       "      <td>Norway</td>\n",
       "      <td>Western Europe</td>\n",
       "      <td>4</td>\n",
       "      <td>7.522</td>\n",
       "      <td>0.03880</td>\n",
       "      <td>1.45900</td>\n",
       "      <td>1.33095</td>\n",
       "      <td>0.88521</td>\n",
       "      <td>0.66973</td>\n",
       "      <td>0.36503</td>\n",
       "      <td>0.34699</td>\n",
       "      <td>2.46531</td>\n",
       "    </tr>\n",
       "    <tr>\n",
       "      <th>4</th>\n",
       "      <td>Canada</td>\n",
       "      <td>North America</td>\n",
       "      <td>5</td>\n",
       "      <td>7.427</td>\n",
       "      <td>0.03553</td>\n",
       "      <td>1.32629</td>\n",
       "      <td>1.32261</td>\n",
       "      <td>0.90563</td>\n",
       "      <td>0.63297</td>\n",
       "      <td>0.32957</td>\n",
       "      <td>0.45811</td>\n",
       "      <td>2.45176</td>\n",
       "    </tr>\n",
       "    <tr>\n",
       "      <th>...</th>\n",
       "      <td>...</td>\n",
       "      <td>...</td>\n",
       "      <td>...</td>\n",
       "      <td>...</td>\n",
       "      <td>...</td>\n",
       "      <td>...</td>\n",
       "      <td>...</td>\n",
       "      <td>...</td>\n",
       "      <td>...</td>\n",
       "      <td>...</td>\n",
       "      <td>...</td>\n",
       "      <td>...</td>\n",
       "    </tr>\n",
       "    <tr>\n",
       "      <th>153</th>\n",
       "      <td>Rwanda</td>\n",
       "      <td>Sub-Saharan Africa</td>\n",
       "      <td>154</td>\n",
       "      <td>3.465</td>\n",
       "      <td>0.03464</td>\n",
       "      <td>0.22208</td>\n",
       "      <td>0.77370</td>\n",
       "      <td>0.42864</td>\n",
       "      <td>0.59201</td>\n",
       "      <td>0.55191</td>\n",
       "      <td>0.22628</td>\n",
       "      <td>0.67042</td>\n",
       "    </tr>\n",
       "    <tr>\n",
       "      <th>154</th>\n",
       "      <td>Benin</td>\n",
       "      <td>Sub-Saharan Africa</td>\n",
       "      <td>155</td>\n",
       "      <td>3.340</td>\n",
       "      <td>0.03656</td>\n",
       "      <td>0.28665</td>\n",
       "      <td>0.35386</td>\n",
       "      <td>0.31910</td>\n",
       "      <td>0.48450</td>\n",
       "      <td>0.08010</td>\n",
       "      <td>0.18260</td>\n",
       "      <td>1.63328</td>\n",
       "    </tr>\n",
       "    <tr>\n",
       "      <th>155</th>\n",
       "      <td>Syria</td>\n",
       "      <td>Middle East and Northern Africa</td>\n",
       "      <td>156</td>\n",
       "      <td>3.006</td>\n",
       "      <td>0.05015</td>\n",
       "      <td>0.66320</td>\n",
       "      <td>0.47489</td>\n",
       "      <td>0.72193</td>\n",
       "      <td>0.15684</td>\n",
       "      <td>0.18906</td>\n",
       "      <td>0.47179</td>\n",
       "      <td>0.32858</td>\n",
       "    </tr>\n",
       "    <tr>\n",
       "      <th>156</th>\n",
       "      <td>Burundi</td>\n",
       "      <td>Sub-Saharan Africa</td>\n",
       "      <td>157</td>\n",
       "      <td>2.905</td>\n",
       "      <td>0.08658</td>\n",
       "      <td>0.01530</td>\n",
       "      <td>0.41587</td>\n",
       "      <td>0.22396</td>\n",
       "      <td>0.11850</td>\n",
       "      <td>0.10062</td>\n",
       "      <td>0.19727</td>\n",
       "      <td>1.83302</td>\n",
       "    </tr>\n",
       "    <tr>\n",
       "      <th>157</th>\n",
       "      <td>Togo</td>\n",
       "      <td>Sub-Saharan Africa</td>\n",
       "      <td>158</td>\n",
       "      <td>2.839</td>\n",
       "      <td>0.06727</td>\n",
       "      <td>0.20868</td>\n",
       "      <td>0.13995</td>\n",
       "      <td>0.28443</td>\n",
       "      <td>0.36453</td>\n",
       "      <td>0.10731</td>\n",
       "      <td>0.16681</td>\n",
       "      <td>1.56726</td>\n",
       "    </tr>\n",
       "  </tbody>\n",
       "</table>\n",
       "<p>158 rows × 12 columns</p>\n",
       "</div>"
      ],
      "text/plain": [
       "         Country                           Region  Happiness Rank  \\\n",
       "0    Switzerland                   Western Europe               1   \n",
       "1        Iceland                   Western Europe               2   \n",
       "2        Denmark                   Western Europe               3   \n",
       "3         Norway                   Western Europe               4   \n",
       "4         Canada                    North America               5   \n",
       "..           ...                              ...             ...   \n",
       "153       Rwanda               Sub-Saharan Africa             154   \n",
       "154        Benin               Sub-Saharan Africa             155   \n",
       "155        Syria  Middle East and Northern Africa             156   \n",
       "156      Burundi               Sub-Saharan Africa             157   \n",
       "157         Togo               Sub-Saharan Africa             158   \n",
       "\n",
       "     Happiness Score  Standard Error  Economy (GDP per Capita)   Family  \\\n",
       "0              7.587         0.03411                   1.39651  1.34951   \n",
       "1              7.561         0.04884                   1.30232  1.40223   \n",
       "2              7.527         0.03328                   1.32548  1.36058   \n",
       "3              7.522         0.03880                   1.45900  1.33095   \n",
       "4              7.427         0.03553                   1.32629  1.32261   \n",
       "..               ...             ...                       ...      ...   \n",
       "153            3.465         0.03464                   0.22208  0.77370   \n",
       "154            3.340         0.03656                   0.28665  0.35386   \n",
       "155            3.006         0.05015                   0.66320  0.47489   \n",
       "156            2.905         0.08658                   0.01530  0.41587   \n",
       "157            2.839         0.06727                   0.20868  0.13995   \n",
       "\n",
       "     Health (Life Expectancy)  Freedom  Trust (Government Corruption)  \\\n",
       "0                     0.94143  0.66557                        0.41978   \n",
       "1                     0.94784  0.62877                        0.14145   \n",
       "2                     0.87464  0.64938                        0.48357   \n",
       "3                     0.88521  0.66973                        0.36503   \n",
       "4                     0.90563  0.63297                        0.32957   \n",
       "..                        ...      ...                            ...   \n",
       "153                   0.42864  0.59201                        0.55191   \n",
       "154                   0.31910  0.48450                        0.08010   \n",
       "155                   0.72193  0.15684                        0.18906   \n",
       "156                   0.22396  0.11850                        0.10062   \n",
       "157                   0.28443  0.36453                        0.10731   \n",
       "\n",
       "     Generosity  Dystopia Residual  \n",
       "0       0.29678            2.51738  \n",
       "1       0.43630            2.70201  \n",
       "2       0.34139            2.49204  \n",
       "3       0.34699            2.46531  \n",
       "4       0.45811            2.45176  \n",
       "..          ...                ...  \n",
       "153     0.22628            0.67042  \n",
       "154     0.18260            1.63328  \n",
       "155     0.47179            0.32858  \n",
       "156     0.19727            1.83302  \n",
       "157     0.16681            1.56726  \n",
       "\n",
       "[158 rows x 12 columns]"
      ]
     },
     "execution_count": 25,
     "metadata": {},
     "output_type": "execute_result"
    }
   ],
   "source": [
    "github_link=\"https://raw.githubusercontent.com/dsrscientist/DSData/master/happiness_score_dataset.csv\"\n",
    "df=pd.read_csv(github_link)\n",
    "df"
   ]
  },
  {
   "cell_type": "code",
   "execution_count": 28,
   "id": "d7c21ee9",
   "metadata": {},
   "outputs": [
    {
     "name": "stdout",
     "output_type": "stream",
     "text": [
      "         Country                           Region  Happiness Rank  \\\n",
      "0    Switzerland                   Western Europe               1   \n",
      "1        Iceland                   Western Europe               2   \n",
      "2        Denmark                   Western Europe               3   \n",
      "3         Norway                   Western Europe               4   \n",
      "4         Canada                    North America               5   \n",
      "..           ...                              ...             ...   \n",
      "153       Rwanda               Sub-Saharan Africa             154   \n",
      "154        Benin               Sub-Saharan Africa             155   \n",
      "155        Syria  Middle East and Northern Africa             156   \n",
      "156      Burundi               Sub-Saharan Africa             157   \n",
      "157         Togo               Sub-Saharan Africa             158   \n",
      "\n",
      "     Happiness Score  Standard Error  Economy (GDP per Capita)   Family  \\\n",
      "0              7.587         0.03411                   1.39651  1.34951   \n",
      "1              7.561         0.04884                   1.30232  1.40223   \n",
      "2              7.527         0.03328                   1.32548  1.36058   \n",
      "3              7.522         0.03880                   1.45900  1.33095   \n",
      "4              7.427         0.03553                   1.32629  1.32261   \n",
      "..               ...             ...                       ...      ...   \n",
      "153            3.465         0.03464                   0.22208  0.77370   \n",
      "154            3.340         0.03656                   0.28665  0.35386   \n",
      "155            3.006         0.05015                   0.66320  0.47489   \n",
      "156            2.905         0.08658                   0.01530  0.41587   \n",
      "157            2.839         0.06727                   0.20868  0.13995   \n",
      "\n",
      "     Health (Life Expectancy)  Freedom  Trust (Government Corruption)  \\\n",
      "0                     0.94143  0.66557                        0.41978   \n",
      "1                     0.94784  0.62877                        0.14145   \n",
      "2                     0.87464  0.64938                        0.48357   \n",
      "3                     0.88521  0.66973                        0.36503   \n",
      "4                     0.90563  0.63297                        0.32957   \n",
      "..                        ...      ...                            ...   \n",
      "153                   0.42864  0.59201                        0.55191   \n",
      "154                   0.31910  0.48450                        0.08010   \n",
      "155                   0.72193  0.15684                        0.18906   \n",
      "156                   0.22396  0.11850                        0.10062   \n",
      "157                   0.28443  0.36453                        0.10731   \n",
      "\n",
      "     Generosity  Dystopia Residual first_five_letters  \n",
      "0       0.29678            2.51738             Switze  \n",
      "1       0.43630            2.70201             Icelan  \n",
      "2       0.34139            2.49204             Denmar  \n",
      "3       0.34699            2.46531             Norway  \n",
      "4       0.45811            2.45176             Canada  \n",
      "..          ...                ...                ...  \n",
      "153     0.22628            0.67042             Rwanda  \n",
      "154     0.18260            1.63328              Benin  \n",
      "155     0.47179            0.32858              Syria  \n",
      "156     0.19727            1.83302             Burund  \n",
      "157     0.16681            1.56726               Togo  \n",
      "\n",
      "[158 rows x 13 columns]\n"
     ]
    }
   ],
   "source": [
    "df['first_five_letters']=df['Country'].str[:6]\n",
    "print(df)"
   ]
  },
  {
   "cell_type": "markdown",
   "id": "9dc6d1f4",
   "metadata": {},
   "source": [
    "#### Question 11:-"
   ]
  },
  {
   "cell_type": "code",
   "execution_count": 44,
   "id": "8fa48c5a",
   "metadata": {},
   "outputs": [
    {
     "name": "stdout",
     "output_type": "stream",
     "text": [
      "No matched!\n",
      "Found a match!\n"
     ]
    }
   ],
   "source": [
    "def match_string(text):\n",
    "        pattern = '^[a-zA-Z0-9_]*$'\n",
    "        if re.search(pattern,  text):\n",
    "                return 'Found a match!'\n",
    "        else:\n",
    "                return('No matched!')\n",
    "\n",
    "print(match_string(\"We have invited everyone to our party.\"))\n",
    "print(match_string(\"Data_Sience_1\"))"
   ]
  },
  {
   "cell_type": "markdown",
   "id": "3c8cb7f4",
   "metadata": {},
   "source": [
    "#### Question 12:- "
   ]
  },
  {
   "cell_type": "code",
   "execution_count": 47,
   "id": "dcab5c43",
   "metadata": {},
   "outputs": [
    {
     "name": "stdout",
     "output_type": "stream",
     "text": [
      "False\n",
      "True\n"
     ]
    }
   ],
   "source": [
    "def match_number(string):\n",
    "    text=re.compile(r\"^7\")\n",
    "    if text.match(string):\n",
    "        return True\n",
    "    else:\n",
    "        return False\n",
    "print(match_number('2942340202_43782839122'))\n",
    "print(match_number('723652_dshdysajdg7'))"
   ]
  },
  {
   "cell_type": "markdown",
   "id": "ce0dba0a",
   "metadata": {},
   "source": [
    "#### Question 13:-"
   ]
  },
  {
   "cell_type": "code",
   "execution_count": 49,
   "id": "4f48e64d",
   "metadata": {},
   "outputs": [
    {
     "name": "stdout",
     "output_type": "stream",
     "text": [
      "213.9.98.125\n"
     ]
    }
   ],
   "source": [
    "ip_address=\"213.09.098.125\"\n",
    "without_zero=re.sub('\\.[0]*','.',ip_address)\n",
    "print(without_zero)"
   ]
  },
  {
   "cell_type": "markdown",
   "id": "8e9f1019",
   "metadata": {},
   "source": [
    "#### Question 14:- "
   ]
  },
  {
   "cell_type": "code",
   "execution_count": 53,
   "id": "83e473d4",
   "metadata": {},
   "outputs": [
    {
     "name": "stdout",
     "output_type": "stream",
     "text": [
      "Expected_output: August 15th 1947\n"
     ]
    }
   ],
   "source": [
    "sample_text=\"On August 15th 1947 that India was declared independent from British colonialism, and the reins of control were handed over to the leaders of the Country.\"\n",
    "with open(\"date.txt\",\"w\")as file:\n",
    "    file.write(sample_text)\n",
    "\n",
    "with open('date.txt', 'r') as file:\n",
    "    text = file.read()\n",
    "    \n",
    "date_pattern=re.compile(r'(\\b(?:January|Febuary|March|April|May|June|July|August|September|October|November|December)\\s\\d{1,2}(?:st|nd|rd|th)?\\s\\d{4}\\b)')\n",
    "match=date_pattern.search(text)\n",
    "if match:\n",
    "    matched_date=match.group(1)\n",
    "    print(\"Expected_output:\",matched_date)\n",
    "else:\n",
    "        print(\"no match\")\n",
    "    "
   ]
  },
  {
   "cell_type": "markdown",
   "id": "37e54dc4",
   "metadata": {},
   "source": [
    "#### Question 15:- "
   ]
  },
  {
   "cell_type": "code",
   "execution_count": 66,
   "id": "8aa69098",
   "metadata": {},
   "outputs": [
    {
     "name": "stdout",
     "output_type": "stream",
     "text": [
      "'fox' found in the text.\n",
      "'dog' found in the text.\n",
      "'horse' not found in the text.\n"
     ]
    }
   ],
   "source": [
    "sample_text = 'The quick brown fox jumps over the lazy dog.'\n",
    "searched_words = ['fox', 'dog', 'horse']\n",
    "for word in searched_words:\n",
    "    if word in sample_text:\n",
    "        print(f\"'{word}' found in the text.\")\n",
    "    else:\n",
    "        print(f\"'{word}' not found in the text.\")"
   ]
  },
  {
   "cell_type": "markdown",
   "id": "55eb944c",
   "metadata": {},
   "source": [
    "#### Question 16:- "
   ]
  },
  {
   "cell_type": "code",
   "execution_count": 47,
   "id": "5985fd0e",
   "metadata": {},
   "outputs": [
    {
     "name": "stdout",
     "output_type": "stream",
     "text": [
      "found \"fox\"in \"The quick brown fox jumps over the lazy dog.\" from 16 to 19\n"
     ]
    }
   ],
   "source": [
    "sample_text=\"The quick brown fox jumps over the lazy dog.\"\n",
    "pattern='fox'\n",
    "match=re.search(pattern,sample_text)\n",
    "s=match.start()\n",
    "e=match.end()\n",
    "print('found \"%s\"in \"%s\" from %d to %d'%\\\n",
    "     (match.re.pattern,match.string,s,e))"
   ]
  },
  {
   "cell_type": "markdown",
   "id": "562ef198",
   "metadata": {},
   "source": [
    "#### question 17:- "
   ]
  },
  {
   "cell_type": "code",
   "execution_count": 72,
   "id": "595f052c",
   "metadata": {},
   "outputs": [
    {
     "name": "stdout",
     "output_type": "stream",
     "text": [
      "match is found 3\n"
     ]
    }
   ],
   "source": [
    "sample_text = 'Python exercises, PHP exercises, C# exercises'\n",
    "substring = 'exercises'\n",
    "match= re.findall(substring, sample_text)\n",
    "if match:\n",
    "    print('match is found', len(match))\n",
    "else:\n",
    "    print('no match found')"
   ]
  },
  {
   "cell_type": "markdown",
   "id": "59e72f1b",
   "metadata": {},
   "source": [
    "#### Question 18:- "
   ]
  },
  {
   "cell_type": "code",
   "execution_count": 75,
   "id": "8a1515d0",
   "metadata": {},
   "outputs": [
    {
     "name": "stdout",
     "output_type": "stream",
     "text": [
      " 'exercises' found at position (7, 16)\n",
      " 'exercises' found at position (22, 31)\n",
      " 'exercises' found at position (36, 45)\n"
     ]
    }
   ],
   "source": [
    "sample_text = 'Python exercises, PHP exercises, C# exercises'\n",
    "substring = 'exercises'\n",
    "m = re.finditer(substring,sample_text)\n",
    "for match in m:\n",
    "    print(' \\'{}\\''.format(substring), 'found at position', match.span())"
   ]
  },
  {
   "cell_type": "markdown",
   "id": "6b017f74",
   "metadata": {},
   "source": [
    "#### Question 19:- "
   ]
  },
  {
   "cell_type": "code",
   "execution_count": 82,
   "id": "1fa2fffc",
   "metadata": {},
   "outputs": [],
   "source": [
    "def convert_date(input_date):\n",
    "    old_date=input_date.split('-')\n",
    "    new_date=f\"{date}-{month}-{year}\"\n",
    "    return new_date"
   ]
  },
  {
   "cell_type": "code",
   "execution_count": 81,
   "id": "3f18a4c0",
   "metadata": {},
   "outputs": [
    {
     "name": "stdout",
     "output_type": "stream",
     "text": [
      "Original Date: 2002-08-20\n",
      "Converted Date:20-08-2002\n"
     ]
    }
   ],
   "source": [
    "input_date=\"2002-08-20\"\n",
    "converted_date=convert_date(input_date)\n",
    "print(f\"Original Date: {input_date}\")\n",
    "print(f\"Converted Date:{converted_date}\")"
   ]
  },
  {
   "cell_type": "markdown",
   "id": "35a6371d",
   "metadata": {},
   "source": [
    "#### Question 20:- "
   ]
  },
  {
   "cell_type": "code",
   "execution_count": 91,
   "id": "9b177212",
   "metadata": {},
   "outputs": [],
   "source": [
    "sample_text = \"01.12 0132.123 2.31875 145.8 3.01 27.25 0.25\"\n",
    "def find_decimal_numbers(input_text):\n",
    "    pattern = re.compile(r'\\b\\d+\\.\\d{1,2}\\b')\n",
    "    decimal_numbers = pattern.findall(input_text)\n",
    "    return decimal_numbers"
   ]
  },
  {
   "cell_type": "code",
   "execution_count": 92,
   "id": "4bff45a8",
   "metadata": {},
   "outputs": [
    {
     "name": "stdout",
     "output_type": "stream",
     "text": [
      "['01.12', '145.8', '3.01', '27.25', '0.25']\n"
     ]
    }
   ],
   "source": [
    "result = find_decimal_numbers(sample_text)\n",
    "print(result)"
   ]
  },
  {
   "cell_type": "markdown",
   "id": "c3c18966",
   "metadata": {},
   "source": [
    "#### Question 21:-"
   ]
  },
  {
   "cell_type": "code",
   "execution_count": 95,
   "id": "18b4f797",
   "metadata": {},
   "outputs": [
    {
     "name": "stdout",
     "output_type": "stream",
     "text": [
      "20\n",
      "Index position: 17\n"
     ]
    }
   ],
   "source": [
    "string = \"My birth date is 20 August.\"\n",
    "\n",
    "for match in re.finditer(\"\\d+\",string):\n",
    "    print(match.group(0))\n",
    "    print(\"Index position:\", match.start())"
   ]
  },
  {
   "cell_type": "markdown",
   "id": "1e501a50",
   "metadata": {},
   "source": [
    "#### Question 22:- "
   ]
  },
  {
   "cell_type": "code",
   "execution_count": 96,
   "id": "a10c04ab",
   "metadata": {},
   "outputs": [
    {
     "name": "stdout",
     "output_type": "stream",
     "text": [
      "950\n"
     ]
    }
   ],
   "source": [
    "sample_text=\"My marks in each semester are: 947,896,926,524,734,950,642\"\n",
    "numeric_values=re.findall(r'\\b\\d+\\b',sample_text)\n",
    "largest_value=max(map(int,numeric_values))\n",
    "print(largest_value)"
   ]
  },
  {
   "cell_type": "markdown",
   "id": "00a60772",
   "metadata": {},
   "source": [
    "#### Question 23:-"
   ]
  },
  {
   "cell_type": "code",
   "execution_count": 117,
   "id": "d5097b39",
   "metadata": {},
   "outputs": [],
   "source": [
    "def insert_spaces(text):\n",
    "    pattern = r'([A-Z][a-z]+)'\n",
    "    result = re.sub(pattern, r' \\1', text)\n",
    "    result = result.strip()\n",
    "    return result"
   ]
  },
  {
   "cell_type": "code",
   "execution_count": 118,
   "id": "b83022b2",
   "metadata": {},
   "outputs": [
    {
     "name": "stdout",
     "output_type": "stream",
     "text": [
      "Regular Expression Is An Important Topic In Python\n"
     ]
    }
   ],
   "source": [
    "sample_text = \"RegularExpressionIsAnImportantTopicInPython\"\n",
    "output = insert_spaces(sample_text)\n",
    "print(output)"
   ]
  },
  {
   "cell_type": "markdown",
   "id": "0c877baa",
   "metadata": {},
   "source": [
    "#### Question 24:- "
   ]
  },
  {
   "cell_type": "code",
   "execution_count": 5,
   "id": "9258c47b",
   "metadata": {},
   "outputs": [],
   "source": [
    "def match_text(text):\n",
    "    pattern='[A-Z]+[a-z]+$'\n",
    "    if re.search(pattern,text):\n",
    "        return \"Found a Match\"\n",
    "    else:\n",
    "        return \"No match Found\""
   ]
  },
  {
   "cell_type": "code",
   "execution_count": 11,
   "id": "5a79abd5",
   "metadata": {},
   "outputs": [
    {
     "name": "stdout",
     "output_type": "stream",
     "text": [
      "No match Found\n",
      "Found a Match\n",
      "Found a Match\n"
     ]
    }
   ],
   "source": [
    "print(match_text(\"PyTHON\"))\n",
    "print(match_text(\"Data Science\"))\n",
    "print(match_text(\"RegEx\"))"
   ]
  },
  {
   "cell_type": "markdown",
   "id": "4e8d2395",
   "metadata": {},
   "source": [
    "#### Question 25:- "
   ]
  },
  {
   "cell_type": "code",
   "execution_count": 17,
   "id": "5eb76a35",
   "metadata": {},
   "outputs": [],
   "source": [
    "sample_text = \"Hello hello world world\"\n",
    "def remove_continuous_duplicates(sentence):\n",
    "    output = re.sub(r'\\b(\\w+)(\\s+\\1\\b)+', r'\\1', sentence)\n",
    "    return output"
   ]
  },
  {
   "cell_type": "code",
   "execution_count": 18,
   "id": "0fad25d3",
   "metadata": {},
   "outputs": [
    {
     "name": "stdout",
     "output_type": "stream",
     "text": [
      "Hello hello world\n"
     ]
    }
   ],
   "source": [
    "expected_result = remove_continuous_duplicates(sample_text)\n",
    "print(expected_result)"
   ]
  },
  {
   "cell_type": "markdown",
   "id": "bf239e1e",
   "metadata": {},
   "source": [
    "#### Question 26:- "
   ]
  },
  {
   "cell_type": "code",
   "execution_count": 19,
   "id": "2342f9dc",
   "metadata": {},
   "outputs": [],
   "source": [
    "def check_string(string):\n",
    "    pattern=r'\\w$'\n",
    "    match=re.search(pattern,string)\n",
    "    if match:\n",
    "        return True\n",
    "    else:\n",
    "        return False"
   ]
  },
  {
   "cell_type": "code",
   "execution_count": 22,
   "id": "a195b8e1",
   "metadata": {},
   "outputs": [
    {
     "name": "stdout",
     "output_type": "stream",
     "text": [
      "Enter a string:1234562@\n",
      "String does not end with aphanumeric character\n"
     ]
    }
   ],
   "source": [
    "input_string=input(\"Enter a string:\")\n",
    "if check_string(input_string):\n",
    "    print(\"String ends with an alphanumeric character\")\n",
    "else:\n",
    "    print(\"String does not end with aphanumeric character\")"
   ]
  },
  {
   "cell_type": "markdown",
   "id": "f45c7a81",
   "metadata": {},
   "source": [
    "#### Question 27:- "
   ]
  },
  {
   "cell_type": "code",
   "execution_count": 23,
   "id": "deba9b94",
   "metadata": {},
   "outputs": [
    {
     "name": "stdout",
     "output_type": "stream",
     "text": [
      "['#Doltiwal', '#xyzabc', '#Demonetization']\n"
     ]
    }
   ],
   "source": [
    "sample_text=\"\"\"RT @kapil_kausik: #Doltiwal I mean #xyzabc is \"hurt\" by #Demonetization as the same has rendered USELESS <ed><U+00A0><U+00BD><ed><U+00B1><U+0089> \"acquired funds\" No wo\"\"\"\n",
    "expected_output=re.findall(r'#\\w+',sample_text)\n",
    "print(expected_output)"
   ]
  },
  {
   "cell_type": "markdown",
   "id": "99cc9846",
   "metadata": {},
   "source": [
    "#### Question 28:- "
   ]
  },
  {
   "cell_type": "code",
   "execution_count": 25,
   "id": "7195015e",
   "metadata": {},
   "outputs": [
    {
     "name": "stdout",
     "output_type": "stream",
     "text": [
      "@Jags123456 Bharat band on 28??<ed><ed>Those who  are protesting #demonetization  are all different party leaders\n"
     ]
    }
   ],
   "source": [
    "sample_text = \"@Jags123456 Bharat band on 28??<ed><U+00A0><U+00BD><ed><U+00B8><U+0082>Those who  are protesting #demonetization  are all different party leaders\"\n",
    "expected_text = re.sub(r'<U\\+\\w+>', '', sample_text)\n",
    "print(expected_text)"
   ]
  },
  {
   "cell_type": "markdown",
   "id": "484ce507",
   "metadata": {},
   "source": [
    "#### Question 29:- "
   ]
  },
  {
   "cell_type": "code",
   "execution_count": 40,
   "id": "e288959c",
   "metadata": {},
   "outputs": [
    {
     "name": "stdout",
     "output_type": "stream",
     "text": [
      "12-09-1992\n",
      "15-12-1999\n"
     ]
    }
   ],
   "source": [
    "Sample_text=\"Ron was born on 12-09-1992 and he was admitted to school 15-12-1999.\"\n",
    "with open(\"new.txt\",\"w\")as file:\n",
    "    file.write(Sample_text)\n",
    "    \n",
    "with open(\"new.txt\",'r')as file:\n",
    "    text=file.read()\n",
    "pattern=r'\\b\\d{2}-\\d{2}-\\d{4}\\b'\n",
    "dates=re.findall(pattern,text)\n",
    "\n",
    "for date in dates:\n",
    "    print(date)"
   ]
  },
  {
   "cell_type": "markdown",
   "id": "da5030fb",
   "metadata": {},
   "source": [
    "#### Question 30:- "
   ]
  },
  {
   "cell_type": "code",
   "execution_count": 41,
   "id": "6c5be153",
   "metadata": {},
   "outputs": [],
   "source": [
    "sample_text=\"The following example creates an ArrayList with a capacity of 50 elements. 4 elements are then added to the ArrayList and the ArrayList is trimmed accordingly.\"\n",
    "def remove_word(text):\n",
    "    pattern=re.compile(r'\\b\\w{2,4}\\b')\n",
    "    result=re.sub(pattern,'',text)\n",
    "    return result"
   ]
  },
  {
   "cell_type": "code",
   "execution_count": 42,
   "id": "9ef48866",
   "metadata": {},
   "outputs": [
    {
     "name": "stdout",
     "output_type": "stream",
     "text": [
      " following example creates  ArrayList  a capacity   elements. 4 elements   added   ArrayList   ArrayList  trimmed accordingly.\n"
     ]
    }
   ],
   "source": [
    "output=remove_word(sample_text)\n",
    "print(output)"
   ]
  },
  {
   "cell_type": "code",
   "execution_count": null,
   "id": "e5080167",
   "metadata": {},
   "outputs": [],
   "source": []
  }
 ],
 "metadata": {
  "kernelspec": {
   "display_name": "Python 3 (ipykernel)",
   "language": "python",
   "name": "python3"
  },
  "language_info": {
   "codemirror_mode": {
    "name": "ipython",
    "version": 3
   },
   "file_extension": ".py",
   "mimetype": "text/x-python",
   "name": "python",
   "nbconvert_exporter": "python",
   "pygments_lexer": "ipython3",
   "version": "3.11.5"
  }
 },
 "nbformat": 4,
 "nbformat_minor": 5
}
